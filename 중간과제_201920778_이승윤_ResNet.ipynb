{
  "nbformat": 4,
  "nbformat_minor": 0,
  "metadata": {
    "colab": {
      "provenance": [],
      "gpuType": "T4",
      "authorship_tag": "ABX9TyPkQkw64gunde5xol0y1SQu",
      "include_colab_link": true
    },
    "kernelspec": {
      "name": "python3",
      "display_name": "Python 3"
    },
    "language_info": {
      "name": "python"
    },
    "accelerator": "GPU",
    "gpuClass": "standard"
  },
  "cells": [
    {
      "cell_type": "markdown",
      "metadata": {
        "id": "view-in-github",
        "colab_type": "text"
      },
      "source": [
        "<a href=\"https://colab.research.google.com/github/soccer1356-2000/Ingong_MidtermExam/blob/main/%EC%A4%91%EA%B0%84%EA%B3%BC%EC%A0%9C_201920778_%EC%9D%B4%EC%8A%B9%EC%9C%A4_ResNet.ipynb\" target=\"_parent\"><img src=\"https://colab.research.google.com/assets/colab-badge.svg\" alt=\"Open In Colab\"/></a>"
      ]
    },
    {
      "cell_type": "code",
      "execution_count": 1,
      "metadata": {
        "id": "FoWYQ5rfLSLH",
        "colab": {
          "base_uri": "https://localhost:8080/"
        },
        "outputId": "7ec0eec6-289f-4685-dc3a-dca7fae14cc7"
      },
      "outputs": [
        {
          "output_type": "stream",
          "name": "stdout",
          "text": [
            "Downloading http://fashion-mnist.s3-website.eu-central-1.amazonaws.com/train-images-idx3-ubyte.gz\n",
            "Downloading http://fashion-mnist.s3-website.eu-central-1.amazonaws.com/train-images-idx3-ubyte.gz to MNIST_data/FashionMNIST/raw/train-images-idx3-ubyte.gz\n"
          ]
        },
        {
          "output_type": "stream",
          "name": "stderr",
          "text": [
            "100%|██████████| 26421880/26421880 [00:03<00:00, 8188067.91it/s] \n"
          ]
        },
        {
          "output_type": "stream",
          "name": "stdout",
          "text": [
            "Extracting MNIST_data/FashionMNIST/raw/train-images-idx3-ubyte.gz to MNIST_data/FashionMNIST/raw\n",
            "\n",
            "Downloading http://fashion-mnist.s3-website.eu-central-1.amazonaws.com/train-labels-idx1-ubyte.gz\n",
            "Downloading http://fashion-mnist.s3-website.eu-central-1.amazonaws.com/train-labels-idx1-ubyte.gz to MNIST_data/FashionMNIST/raw/train-labels-idx1-ubyte.gz\n"
          ]
        },
        {
          "output_type": "stream",
          "name": "stderr",
          "text": [
            "100%|██████████| 29515/29515 [00:00<00:00, 143564.25it/s]\n"
          ]
        },
        {
          "output_type": "stream",
          "name": "stdout",
          "text": [
            "Extracting MNIST_data/FashionMNIST/raw/train-labels-idx1-ubyte.gz to MNIST_data/FashionMNIST/raw\n",
            "\n",
            "Downloading http://fashion-mnist.s3-website.eu-central-1.amazonaws.com/t10k-images-idx3-ubyte.gz\n",
            "Downloading http://fashion-mnist.s3-website.eu-central-1.amazonaws.com/t10k-images-idx3-ubyte.gz to MNIST_data/FashionMNIST/raw/t10k-images-idx3-ubyte.gz\n"
          ]
        },
        {
          "output_type": "stream",
          "name": "stderr",
          "text": [
            "100%|██████████| 4422102/4422102 [00:01<00:00, 2632666.00it/s]\n"
          ]
        },
        {
          "output_type": "stream",
          "name": "stdout",
          "text": [
            "Extracting MNIST_data/FashionMNIST/raw/t10k-images-idx3-ubyte.gz to MNIST_data/FashionMNIST/raw\n",
            "\n",
            "Downloading http://fashion-mnist.s3-website.eu-central-1.amazonaws.com/t10k-labels-idx1-ubyte.gz\n",
            "Downloading http://fashion-mnist.s3-website.eu-central-1.amazonaws.com/t10k-labels-idx1-ubyte.gz to MNIST_data/FashionMNIST/raw/t10k-labels-idx1-ubyte.gz\n"
          ]
        },
        {
          "output_type": "stream",
          "name": "stderr",
          "text": [
            "100%|██████████| 5148/5148 [00:00<00:00, 20104540.96it/s]\n"
          ]
        },
        {
          "output_type": "stream",
          "name": "stdout",
          "text": [
            "Extracting MNIST_data/FashionMNIST/raw/t10k-labels-idx1-ubyte.gz to MNIST_data/FashionMNIST/raw\n",
            "\n"
          ]
        }
      ],
      "source": [
        "from torchvision import datasets, transforms # Fashion-MNIST dataset for PyTorch\n",
        "# Download and load the FashionMNIST training data\n",
        "transform = transforms.Compose([transforms.ToTensor(),\n",
        "                                transforms.Normalize((0.5,), (0.5,))])\n",
        "trainset = datasets.FashionMNIST('MNIST_data/', download = True, train = True,\n",
        "transform = transform)\n",
        "testset = datasets.FashionMNIST('MNIST_data/', download = True, train = False,\n",
        "transform = transform)"
      ]
    },
    {
      "cell_type": "code",
      "source": [
        "import torch\n",
        "trainloader = torch.utils.data.DataLoader(trainset, batch_size=256, shuffle=True)\n",
        "testloader = torch.utils.data.DataLoader(testset, batch_size=256, shuffle=True)"
      ],
      "metadata": {
        "id": "FbEBR-PBNQbC"
      },
      "execution_count": 2,
      "outputs": []
    },
    {
      "cell_type": "code",
      "source": [
        "trainset # 28 * 28 * 1"
      ],
      "metadata": {
        "colab": {
          "base_uri": "https://localhost:8080/"
        },
        "id": "MZcKmEcXa6BP",
        "outputId": "e6b595c2-6c67-4d55-e988-460938a967cf"
      },
      "execution_count": 3,
      "outputs": [
        {
          "output_type": "execute_result",
          "data": {
            "text/plain": [
              "Dataset FashionMNIST\n",
              "    Number of datapoints: 60000\n",
              "    Root location: MNIST_data/\n",
              "    Split: Train\n",
              "    StandardTransform\n",
              "Transform: Compose(\n",
              "               ToTensor()\n",
              "               Normalize(mean=(0.5,), std=(0.5,))\n",
              "           )"
            ]
          },
          "metadata": {},
          "execution_count": 3
        }
      ]
    },
    {
      "cell_type": "code",
      "source": [
        "import torch.nn as nn\n",
        "import torch.nn.functional as F"
      ],
      "metadata": {
        "id": "6yjaet1MoX-Z"
      },
      "execution_count": 4,
      "outputs": []
    },
    {
      "cell_type": "code",
      "source": [
        "def conv3x3(in_planes, out_planes, stride=1, groups=1):\n",
        "    return nn.Conv2d(in_planes, out_planes, kernel_size=3, stride=stride,\n",
        "                     padding=1, groups=groups, bias=False)\n",
        "\n",
        "def conv1x1(in_planes, out_planes, stride=1):\n",
        "    return nn.Conv2d(in_planes, out_planes, kernel_size=1, stride=stride, bias=False)"
      ],
      "metadata": {
        "id": "-lSZGD5wndIa"
      },
      "execution_count": 5,
      "outputs": []
    },
    {
      "cell_type": "code",
      "source": [
        "class BasicBlock(nn.Module):\n",
        "    expansion = 1\n",
        "\n",
        "    def __init__(self, inplanes, planes, stride=1, downsample=None, groups=1,\n",
        "                 base_width=64,  norm_layer=nn.BatchNorm2d):\n",
        "      \n",
        "        super().__init__()\n",
        "            \n",
        "        self.conv1 = conv3x3(inplanes, planes, stride)  \n",
        "        self.bn1 = norm_layer(planes)\n",
        "        self.relu = nn.ReLU(inplace=True)\n",
        "        self.conv2 = conv3x3(planes, planes)\n",
        "        self.bn2 = norm_layer(planes)\n",
        "        self.downsample = downsample\n",
        "        self.stride = stride\n",
        "\n",
        "    def forward(self, x):\n",
        "        identity = x\n",
        "\n",
        "        out = self.conv1(x)\n",
        "        out = self.bn1(out)\n",
        "        out = self.relu(out)\n",
        "\n",
        "        out = self.conv2(out)\n",
        "        out = self.bn2(out)\n",
        "        \n",
        "        if self.downsample is not None:\n",
        "            identity = self.downsample(x)\n",
        "            \n",
        "        out += identity\n",
        "        out = self.relu(out)\n",
        "\n",
        "        return out"
      ],
      "metadata": {
        "id": "BKX_QBynryp8"
      },
      "execution_count": 6,
      "outputs": []
    },
    {
      "cell_type": "code",
      "source": [
        "class Bottleneck(nn.Module):\n",
        "    expansion = 4\n",
        "\n",
        "    def __init__(self, inplanes, planes, stride=1, downsample=None, groups=1,\n",
        "                 base_width=64, norm_layer=nn.BatchNorm2d):\n",
        "        super().__init__()\n",
        "\n",
        "        # ResNext\n",
        "        width = int(planes * (base_width / 64.)) * groups\n",
        "        \n",
        "\n",
        "        self.conv1 = conv1x1(inplanes, width)\n",
        "        self.bn1 = norm_layer(width)\n",
        "        self.conv2 = conv3x3(width, width, stride, groups) # conv2에서 downsample\n",
        "        self.bn2 = norm_layer(width)\n",
        "        self.conv3 = conv1x1(width, planes * self.expansion)\n",
        "        self.bn3 = norm_layer(planes * self.expansion)\n",
        "        self.relu = nn.ReLU(inplace=True)\n",
        "        self.downsample = downsample\n",
        "        self.stride = stride\n",
        "\n",
        "    def forward(self, x):\n",
        "        identity = x\n",
        "        # 1x1 convolution layer\n",
        "        out = self.conv1(x)\n",
        "        out = self.bn1(out)\n",
        "        out = self.relu(out)\n",
        "        # 3x3 convolution layer\n",
        "        out = self.conv2(out)\n",
        "        out = self.bn2(out)\n",
        "        out = self.relu(out)\n",
        "        # 1x1 convolution layer\n",
        "        out = self.conv3(out)\n",
        "        out = self.bn3(out)\n",
        "        \n",
        "        if self.downsample is not None:\n",
        "            identity = self.downsample(x)\n",
        "\n",
        "        out += identity\n",
        "        out = self.relu(out)\n",
        "\n",
        "        return out"
      ],
      "metadata": {
        "id": "CimQEbX0sfJN"
      },
      "execution_count": 7,
      "outputs": []
    },
    {
      "cell_type": "code",
      "source": [
        "class ResNet(nn.Module):\n",
        "  def __init__(self, block, layers, zero_init_residual=False,\n",
        "                 groups=1, width_per_group=64, norm_layer=nn.BatchNorm2d):\n",
        "    super().__init__()\n",
        "    self.norm_layer = norm_layer\n",
        "    self.groups = groups\n",
        "    self.base_width = width_per_group\n",
        "\n",
        "    self.inplane = 64\n",
        "\n",
        "    #stage 1\n",
        "    self.conv1 = nn.Conv2d(1,self.inplane,kernel_size=7,stride = 2, padding = 3, bias = False)\n",
        "    self.bn1 = norm_layer(self.inplane)\n",
        "    self.relu = nn.ReLU(inplace = True)\n",
        "    self.maxpool = nn.MaxPool2d(kernel_size=3,stride=2,padding=1)\n",
        "    #stage 2\n",
        "    self.layer1 = self.make_layer(block,64,layers[0])\n",
        "    #stage 3\n",
        "    self.layer2 = self.make_layer(block,128,layers[1],stride=2)\n",
        "    #stage 4\n",
        "    self.layer3 = self.make_layer(block,256,layers[2],stride=2)\n",
        "    #stage 5\n",
        "    self.layer4 = self.make_layer(block,512,layers[3],stride=2)\n",
        "    self.averpool = nn.AdaptiveAvgPool2d((1,1))\n",
        "    self.fc = nn.Linear(512 * block.expansion,10)\n",
        "  \n",
        "  def make_layer(self,block,palnes,blocks,stride = 1):\n",
        "    norm_layer = self.norm_layer\n",
        "\n",
        "    down_channel = None\n",
        "    \n",
        "    if stride != 1 or self.inplane != block.expansion * palnes:\n",
        "      down_channel = nn.Sequential(conv1x1(self.inplane, palnes * block.expansion,stride),norm_layer(palnes * block.expansion))\n",
        "\n",
        "    layers = []\n",
        "\n",
        "    layers.append(block(self.inplane, palnes, stride, down_channel, self.groups,self.base_width, norm_layer))\n",
        "    self.inplane = palnes * block.expansion # inplanes 업데이트\n",
        "    for _ in range(1, blocks):\n",
        "        layers.append(block(self.inplane, palnes, groups=self.groups,base_width=self.base_width, norm_layer=norm_layer))\n",
        "\n",
        "    return nn.Sequential(*layers)\n",
        "\n",
        "  def forward(self, x):\n",
        "    x = self.conv1(x)\n",
        "    x = self.bn1(x)\n",
        "    x = self.relu(x)\n",
        "    x = self.maxpool(x)\n",
        "\n",
        "    x = self.layer1(x)\n",
        "    x = self.layer2(x)\n",
        "    x = self.layer3(x)\n",
        "    x = self.layer4(x)\n",
        "\n",
        "    x = self.averpool(x)\n",
        "    x = torch.flatten(x, 1)\n",
        "    x = self.fc(x)\n",
        "\n",
        "   # output = nn.log_softmax(x, dim=1)\n",
        "    return F.log_softmax(x)"
      ],
      "metadata": {
        "id": "yjZKnwgct0hB"
      },
      "execution_count": 8,
      "outputs": []
    },
    {
      "cell_type": "code",
      "source": [
        "from torch.autograd import Variable\n",
        "import torch.optim as optim"
      ],
      "metadata": {
        "id": "G_UN2T5709Rs"
      },
      "execution_count": 9,
      "outputs": []
    },
    {
      "cell_type": "code",
      "source": [
        "args={}\n",
        "kwargs={}\n",
        "args['batch_size']=56\n",
        "args['epochs']=10  #The number of Epochs is the number of times you go through the full dataset. \n",
        "args['lr']=0.01 #Learning rate is how fast it will decend. \n",
        "args['momentum']=0.9 #SGD momentum (default: 0.5) Momentum is a moving average of our gradients (helps to keep direction).\n",
        "args['weight_decay']=1e-5\n",
        "\n",
        "args['seed']=1 #random seed\n",
        "args['log_interval']=5000 // args['batch_size']\n",
        "args['cuda']=True"
      ],
      "metadata": {
        "id": "QrIE9UAm0d0b"
      },
      "execution_count": 10,
      "outputs": []
    },
    {
      "cell_type": "code",
      "source": [
        "def train(epoch):\n",
        "    model.train()\n",
        "    train_correct = 0\n",
        "    for batch_idx, (data, target) in enumerate(trainloader):\n",
        "        if args['cuda']:\n",
        "            data, target = data.cuda(), target.cuda()\n",
        "        #Variables in Pytorch are differenciable. \n",
        "        data, target = Variable(data), Variable(target)\n",
        "        #This will zero out the gradients for this batch. \n",
        "        optimizer.zero_grad()\n",
        "        output = model(data)\n",
        "        train_pred = output.data.max(1, keepdim=True)[1] # get the index of the max log-probability\n",
        "        train_correct += train_pred.eq(target.data.view_as(train_pred)).long().cpu().sum()\n",
        "        # Calculate the loss The negative log likelihood loss. It is useful to train a classification problem with C classes.\n",
        "        loss = F.nll_loss(output, target)\n",
        "        #dloss/dx for every Variable \n",
        "        loss.backward()\n",
        "        #to do a one-step update on our parameter.\n",
        "        optimizer.step()\n",
        "        #Print out the loss periodically. \n",
        "        if batch_idx % args['log_interval'] == 0:\n",
        "            train_correct = 0\n",
        "            print('Train Epoch: {} [{}/{} ({:.0f}%)]\\tLoss: {:.6f}'.format(\n",
        "                epoch, batch_idx * len(data), len(trainloader.dataset),\n",
        "                100. * batch_idx / len(trainloader), loss.data))\n",
        "    train_acc.insert(len(train_acc),(100. * train_correct / len(trainloader.dataset)))\n",
        "def test():\n",
        "    model.eval()\n",
        "    test_loss = 0\n",
        "    correct = 0\n",
        "    for data, target in testloader:\n",
        "        if args['cuda']:\n",
        "            data, target = data.cuda(), target.cuda()\n",
        "        data, target = Variable(data, volatile=True), Variable(target)\n",
        "        output = model(data)\n",
        "        test_loss += F.nll_loss(output, target, size_average=False).data # sum up batch loss\n",
        "        pred = output.data.max(1, keepdim=True)[1] # get the index of the max log-probability\n",
        "        correct += pred.eq(target.data.view_as(pred)).long().cpu().sum()\n",
        "\n",
        "    test_loss /= len(testloader.dataset)\n",
        "    print('\\nTest set: Average loss: {:.4f}, Accuracy: {}/{} ({:.0f}%)\\n'.format(\n",
        "        test_loss, correct, len(testloader.dataset),\n",
        "        100. * correct / len(testloader.dataset)))\n",
        "    test_acc.insert(len(test_acc),(100. * correct / len(testloader.dataset)))"
      ],
      "metadata": {
        "id": "URFhhVfUutlU"
      },
      "execution_count": 11,
      "outputs": []
    },
    {
      "cell_type": "code",
      "source": [
        "pip install ptflops"
      ],
      "metadata": {
        "colab": {
          "base_uri": "https://localhost:8080/"
        },
        "id": "P9iyKkvXDkUc",
        "outputId": "67a55d5e-bc22-4ab8-fd19-f5b02ccd05b7"
      },
      "execution_count": 12,
      "outputs": [
        {
          "output_type": "stream",
          "name": "stdout",
          "text": [
            "Looking in indexes: https://pypi.org/simple, https://us-python.pkg.dev/colab-wheels/public/simple/\n",
            "Collecting ptflops\n",
            "  Downloading ptflops-0.7.tar.gz (13 kB)\n",
            "  Preparing metadata (setup.py) ... \u001b[?25l\u001b[?25hdone\n",
            "Requirement already satisfied: torch in /usr/local/lib/python3.10/dist-packages (from ptflops) (2.0.1+cu118)\n",
            "Requirement already satisfied: filelock in /usr/local/lib/python3.10/dist-packages (from torch->ptflops) (3.12.0)\n",
            "Requirement already satisfied: typing-extensions in /usr/local/lib/python3.10/dist-packages (from torch->ptflops) (4.5.0)\n",
            "Requirement already satisfied: sympy in /usr/local/lib/python3.10/dist-packages (from torch->ptflops) (1.11.1)\n",
            "Requirement already satisfied: networkx in /usr/local/lib/python3.10/dist-packages (from torch->ptflops) (3.1)\n",
            "Requirement already satisfied: jinja2 in /usr/local/lib/python3.10/dist-packages (from torch->ptflops) (3.1.2)\n",
            "Requirement already satisfied: triton==2.0.0 in /usr/local/lib/python3.10/dist-packages (from torch->ptflops) (2.0.0)\n",
            "Requirement already satisfied: cmake in /usr/local/lib/python3.10/dist-packages (from triton==2.0.0->torch->ptflops) (3.25.2)\n",
            "Requirement already satisfied: lit in /usr/local/lib/python3.10/dist-packages (from triton==2.0.0->torch->ptflops) (16.0.5)\n",
            "Requirement already satisfied: MarkupSafe>=2.0 in /usr/local/lib/python3.10/dist-packages (from jinja2->torch->ptflops) (2.1.2)\n",
            "Requirement already satisfied: mpmath>=0.19 in /usr/local/lib/python3.10/dist-packages (from sympy->torch->ptflops) (1.3.0)\n",
            "Building wheels for collected packages: ptflops\n",
            "  Building wheel for ptflops (setup.py) ... \u001b[?25l\u001b[?25hdone\n",
            "  Created wheel for ptflops: filename=ptflops-0.7-py3-none-any.whl size=11076 sha256=790efbfdc02c8bceaf3aaf5e42e929f6fa23e0e2284a238cb6f2514cf43d2dbb\n",
            "  Stored in directory: /root/.cache/pip/wheels/b9/54/3b/f84523431ce82e08462644d279c0e13a51a00236e237e6bc7e\n",
            "Successfully built ptflops\n",
            "Installing collected packages: ptflops\n",
            "Successfully installed ptflops-0.7\n"
          ]
        }
      ]
    },
    {
      "cell_type": "code",
      "source": [
        "import matplotlib.pyplot as plt\n",
        "from ptflops import get_model_complexity_info\n",
        "import math\n",
        "import time"
      ],
      "metadata": {
        "id": "6m_HDnysAp5c"
      },
      "execution_count": 13,
      "outputs": []
    },
    {
      "cell_type": "code",
      "source": [
        "start = time.time()\n",
        "model = ResNet(BasicBlock,[2,2,2,2])\n",
        "train_acc = []\n",
        "test_acc = []\n",
        "\n",
        "if args['cuda']:\n",
        "    model.cuda()\n",
        "\n",
        "optimizer = optim.SGD(model.parameters(), lr=args['lr'], momentum=args['momentum'],weight_decay=args['weight_decay'])\n",
        "\n",
        "for epoch in range(1, args['epochs'] + 1):\n",
        "    train(epoch)\n",
        "    test()\n",
        "\n",
        "end = time.time()\n",
        "\n",
        "print(f\"{end - start:.5f} sec\")\n",
        "\n",
        "with torch.cuda.device(0):\n",
        "\n",
        "  input_tensor = torch.randn(1, 1, 224, 224).cuda()\n",
        "\n",
        "  flops, params = get_model_complexity_info(model, (1, 224, 224), as_strings=True, print_per_layer_stat=True)\n",
        "\n",
        "  print('FLOPs:', flops)\n",
        "\n",
        "  print('Parameters:', params)\n",
        "\n",
        "print(test_acc)\n",
        "print(train_acc)\n",
        "plt.xlabel('Epoch')\n",
        "plt.ylabel('Accuracy')\n",
        "plt.plot([i for i in range(1,len(test_acc)+1)], test_acc, color =\"blue\")\n",
        "a = plt.twinx()\n",
        "a.plot([i for i in range(1,len(train_acc)+1)], train_acc, color = \"red\")\n",
        "plt.show()\n"
      ],
      "metadata": {
        "colab": {
          "base_uri": "https://localhost:8080/",
          "height": 1000
        },
        "id": "j6MJRqJ20YDM",
        "outputId": "afb7eb3d-9ffc-4ae7-c838-7764e5bd1e6b"
      },
      "execution_count": 15,
      "outputs": [
        {
          "output_type": "stream",
          "name": "stderr",
          "text": [
            "<ipython-input-8-d7fa55ca2732>:60: UserWarning: Implicit dimension choice for log_softmax has been deprecated. Change the call to include dim=X as an argument.\n",
            "  return F.log_softmax(x)\n"
          ]
        },
        {
          "output_type": "stream",
          "name": "stdout",
          "text": [
            "Train Epoch: 1 [0/60000 (0%)]\tLoss: 2.484035\n",
            "Train Epoch: 1 [22784/60000 (38%)]\tLoss: 0.391925\n",
            "Train Epoch: 1 [45568/60000 (76%)]\tLoss: 0.355044\n"
          ]
        },
        {
          "output_type": "stream",
          "name": "stderr",
          "text": [
            "<ipython-input-11-e61b35da3f21>:34: UserWarning: volatile was removed and now has no effect. Use `with torch.no_grad():` instead.\n",
            "  data, target = Variable(data, volatile=True), Variable(target)\n"
          ]
        },
        {
          "output_type": "stream",
          "name": "stdout",
          "text": [
            "\n",
            "Test set: Average loss: 0.3881, Accuracy: 8656/10000 (87%)\n",
            "\n",
            "Train Epoch: 2 [0/60000 (0%)]\tLoss: 0.257216\n",
            "Train Epoch: 2 [22784/60000 (38%)]\tLoss: 0.255531\n",
            "Train Epoch: 2 [45568/60000 (76%)]\tLoss: 0.239148\n",
            "\n",
            "Test set: Average loss: 0.3167, Accuracy: 8830/10000 (88%)\n",
            "\n",
            "Train Epoch: 3 [0/60000 (0%)]\tLoss: 0.266515\n",
            "Train Epoch: 3 [22784/60000 (38%)]\tLoss: 0.226874\n",
            "Train Epoch: 3 [45568/60000 (76%)]\tLoss: 0.244389\n",
            "\n",
            "Test set: Average loss: 0.2956, Accuracy: 8921/10000 (89%)\n",
            "\n",
            "Train Epoch: 4 [0/60000 (0%)]\tLoss: 0.183637\n",
            "Train Epoch: 4 [22784/60000 (38%)]\tLoss: 0.230256\n",
            "Train Epoch: 4 [45568/60000 (76%)]\tLoss: 0.263438\n",
            "\n",
            "Test set: Average loss: 0.3170, Accuracy: 8865/10000 (89%)\n",
            "\n",
            "Train Epoch: 5 [0/60000 (0%)]\tLoss: 0.212888\n",
            "Train Epoch: 5 [22784/60000 (38%)]\tLoss: 0.159824\n",
            "Train Epoch: 5 [45568/60000 (76%)]\tLoss: 0.232060\n",
            "\n",
            "Test set: Average loss: 0.3023, Accuracy: 8939/10000 (89%)\n",
            "\n",
            "Train Epoch: 6 [0/60000 (0%)]\tLoss: 0.198138\n",
            "Train Epoch: 6 [22784/60000 (38%)]\tLoss: 0.137919\n",
            "Train Epoch: 6 [45568/60000 (76%)]\tLoss: 0.135042\n",
            "\n",
            "Test set: Average loss: 0.3162, Accuracy: 8942/10000 (89%)\n",
            "\n",
            "Train Epoch: 7 [0/60000 (0%)]\tLoss: 0.177635\n",
            "Train Epoch: 7 [22784/60000 (38%)]\tLoss: 0.193909\n",
            "Train Epoch: 7 [45568/60000 (76%)]\tLoss: 0.183077\n",
            "\n",
            "Test set: Average loss: 0.3091, Accuracy: 8995/10000 (90%)\n",
            "\n",
            "Train Epoch: 8 [0/60000 (0%)]\tLoss: 0.122374\n",
            "Train Epoch: 8 [22784/60000 (38%)]\tLoss: 0.081932\n",
            "Train Epoch: 8 [45568/60000 (76%)]\tLoss: 0.136668\n",
            "\n",
            "Test set: Average loss: 0.3057, Accuracy: 8991/10000 (90%)\n",
            "\n",
            "Train Epoch: 9 [0/60000 (0%)]\tLoss: 0.130378\n",
            "Train Epoch: 9 [22784/60000 (38%)]\tLoss: 0.105146\n",
            "Train Epoch: 9 [45568/60000 (76%)]\tLoss: 0.142118\n",
            "\n",
            "Test set: Average loss: 0.3010, Accuracy: 9034/10000 (90%)\n",
            "\n",
            "Train Epoch: 10 [0/60000 (0%)]\tLoss: 0.111525\n",
            "Train Epoch: 10 [22784/60000 (38%)]\tLoss: 0.121928\n",
            "Train Epoch: 10 [45568/60000 (76%)]\tLoss: 0.097934\n",
            "\n",
            "Test set: Average loss: 0.3141, Accuracy: 9045/10000 (90%)\n",
            "\n",
            "201.77038 sec\n",
            "ResNet(\n",
            "  11.18 M, 100.000% Params, 1.74 GMac, 100.000% MACs, \n",
            "  (conv1): Conv2d(3.14 k, 0.028% Params, 39.34 MMac, 2.257% MACs, 1, 64, kernel_size=(7, 7), stride=(2, 2), padding=(3, 3), bias=False)\n",
            "  (bn1): BatchNorm2d(128, 0.001% Params, 1.61 MMac, 0.092% MACs, 64, eps=1e-05, momentum=0.1, affine=True, track_running_stats=True)\n",
            "  (relu): ReLU(0, 0.000% Params, 802.82 KMac, 0.046% MACs, inplace=True)\n",
            "  (maxpool): MaxPool2d(0, 0.000% Params, 802.82 KMac, 0.046% MACs, kernel_size=3, stride=2, padding=1, dilation=1, ceil_mode=False)\n",
            "  (layer1): Sequential(\n",
            "    147.97 k, 1.324% Params, 464.83 MMac, 26.669% MACs, \n",
            "    (0): BasicBlock(\n",
            "      73.98 k, 0.662% Params, 232.42 MMac, 13.334% MACs, \n",
            "      (conv1): Conv2d(36.86 k, 0.330% Params, 115.61 MMac, 6.633% MACs, 64, 64, kernel_size=(3, 3), stride=(1, 1), padding=(1, 1), bias=False)\n",
            "      (bn1): BatchNorm2d(128, 0.001% Params, 401.41 KMac, 0.023% MACs, 64, eps=1e-05, momentum=0.1, affine=True, track_running_stats=True)\n",
            "      (relu): ReLU(0, 0.000% Params, 401.41 KMac, 0.023% MACs, inplace=True)\n",
            "      (conv2): Conv2d(36.86 k, 0.330% Params, 115.61 MMac, 6.633% MACs, 64, 64, kernel_size=(3, 3), stride=(1, 1), padding=(1, 1), bias=False)\n",
            "      (bn2): BatchNorm2d(128, 0.001% Params, 401.41 KMac, 0.023% MACs, 64, eps=1e-05, momentum=0.1, affine=True, track_running_stats=True)\n",
            "    )\n",
            "    (1): BasicBlock(\n",
            "      73.98 k, 0.662% Params, 232.42 MMac, 13.334% MACs, \n",
            "      (conv1): Conv2d(36.86 k, 0.330% Params, 115.61 MMac, 6.633% MACs, 64, 64, kernel_size=(3, 3), stride=(1, 1), padding=(1, 1), bias=False)\n",
            "      (bn1): BatchNorm2d(128, 0.001% Params, 401.41 KMac, 0.023% MACs, 64, eps=1e-05, momentum=0.1, affine=True, track_running_stats=True)\n",
            "      (relu): ReLU(0, 0.000% Params, 401.41 KMac, 0.023% MACs, inplace=True)\n",
            "      (conv2): Conv2d(36.86 k, 0.330% Params, 115.61 MMac, 6.633% MACs, 64, 64, kernel_size=(3, 3), stride=(1, 1), padding=(1, 1), bias=False)\n",
            "      (bn2): BatchNorm2d(128, 0.001% Params, 401.41 KMac, 0.023% MACs, 64, eps=1e-05, momentum=0.1, affine=True, track_running_stats=True)\n",
            "    )\n",
            "  )\n",
            "  (layer2): Sequential(\n",
            "    525.57 k, 4.703% Params, 412.45 MMac, 23.663% MACs, \n",
            "    (0): BasicBlock(\n",
            "      230.14 k, 2.059% Params, 180.63 MMac, 10.363% MACs, \n",
            "      (conv1): Conv2d(73.73 k, 0.660% Params, 57.8 MMac, 3.316% MACs, 64, 128, kernel_size=(3, 3), stride=(2, 2), padding=(1, 1), bias=False)\n",
            "      (bn1): BatchNorm2d(256, 0.002% Params, 200.7 KMac, 0.012% MACs, 128, eps=1e-05, momentum=0.1, affine=True, track_running_stats=True)\n",
            "      (relu): ReLU(0, 0.000% Params, 200.7 KMac, 0.012% MACs, inplace=True)\n",
            "      (conv2): Conv2d(147.46 k, 1.319% Params, 115.61 MMac, 6.633% MACs, 128, 128, kernel_size=(3, 3), stride=(1, 1), padding=(1, 1), bias=False)\n",
            "      (bn2): BatchNorm2d(256, 0.002% Params, 200.7 KMac, 0.012% MACs, 128, eps=1e-05, momentum=0.1, affine=True, track_running_stats=True)\n",
            "      (downsample): Sequential(\n",
            "        8.45 k, 0.076% Params, 6.62 MMac, 0.380% MACs, \n",
            "        (0): Conv2d(8.19 k, 0.073% Params, 6.42 MMac, 0.368% MACs, 64, 128, kernel_size=(1, 1), stride=(2, 2), bias=False)\n",
            "        (1): BatchNorm2d(256, 0.002% Params, 200.7 KMac, 0.012% MACs, 128, eps=1e-05, momentum=0.1, affine=True, track_running_stats=True)\n",
            "      )\n",
            "    )\n",
            "    (1): BasicBlock(\n",
            "      295.42 k, 2.644% Params, 231.81 MMac, 13.300% MACs, \n",
            "      (conv1): Conv2d(147.46 k, 1.319% Params, 115.61 MMac, 6.633% MACs, 128, 128, kernel_size=(3, 3), stride=(1, 1), padding=(1, 1), bias=False)\n",
            "      (bn1): BatchNorm2d(256, 0.002% Params, 200.7 KMac, 0.012% MACs, 128, eps=1e-05, momentum=0.1, affine=True, track_running_stats=True)\n",
            "      (relu): ReLU(0, 0.000% Params, 200.7 KMac, 0.012% MACs, inplace=True)\n",
            "      (conv2): Conv2d(147.46 k, 1.319% Params, 115.61 MMac, 6.633% MACs, 128, 128, kernel_size=(3, 3), stride=(1, 1), padding=(1, 1), bias=False)\n",
            "      (bn2): BatchNorm2d(256, 0.002% Params, 200.7 KMac, 0.012% MACs, 128, eps=1e-05, momentum=0.1, affine=True, track_running_stats=True)\n",
            "    )\n",
            "  )\n",
            "  (layer3): Sequential(\n",
            "    2.1 M, 18.789% Params, 411.74 MMac, 23.623% MACs, \n",
            "    (0): BasicBlock(\n",
            "      919.04 k, 8.224% Params, 180.23 MMac, 10.340% MACs, \n",
            "      (conv1): Conv2d(294.91 k, 2.639% Params, 57.8 MMac, 3.316% MACs, 128, 256, kernel_size=(3, 3), stride=(2, 2), padding=(1, 1), bias=False)\n",
            "      (bn1): BatchNorm2d(512, 0.005% Params, 100.35 KMac, 0.006% MACs, 256, eps=1e-05, momentum=0.1, affine=True, track_running_stats=True)\n",
            "      (relu): ReLU(0, 0.000% Params, 100.35 KMac, 0.006% MACs, inplace=True)\n",
            "      (conv2): Conv2d(589.82 k, 5.278% Params, 115.61 MMac, 6.633% MACs, 256, 256, kernel_size=(3, 3), stride=(1, 1), padding=(1, 1), bias=False)\n",
            "      (bn2): BatchNorm2d(512, 0.005% Params, 100.35 KMac, 0.006% MACs, 256, eps=1e-05, momentum=0.1, affine=True, track_running_stats=True)\n",
            "      (downsample): Sequential(\n",
            "        33.28 k, 0.298% Params, 6.52 MMac, 0.374% MACs, \n",
            "        (0): Conv2d(32.77 k, 0.293% Params, 6.42 MMac, 0.368% MACs, 128, 256, kernel_size=(1, 1), stride=(2, 2), bias=False)\n",
            "        (1): BatchNorm2d(512, 0.005% Params, 100.35 KMac, 0.006% MACs, 256, eps=1e-05, momentum=0.1, affine=True, track_running_stats=True)\n",
            "      )\n",
            "    )\n",
            "    (1): BasicBlock(\n",
            "      1.18 M, 10.565% Params, 231.51 MMac, 13.282% MACs, \n",
            "      (conv1): Conv2d(589.82 k, 5.278% Params, 115.61 MMac, 6.633% MACs, 256, 256, kernel_size=(3, 3), stride=(1, 1), padding=(1, 1), bias=False)\n",
            "      (bn1): BatchNorm2d(512, 0.005% Params, 100.35 KMac, 0.006% MACs, 256, eps=1e-05, momentum=0.1, affine=True, track_running_stats=True)\n",
            "      (relu): ReLU(0, 0.000% Params, 100.35 KMac, 0.006% MACs, inplace=True)\n",
            "      (conv2): Conv2d(589.82 k, 5.278% Params, 115.61 MMac, 6.633% MACs, 256, 256, kernel_size=(3, 3), stride=(1, 1), padding=(1, 1), bias=False)\n",
            "      (bn2): BatchNorm2d(512, 0.005% Params, 100.35 KMac, 0.006% MACs, 256, eps=1e-05, momentum=0.1, affine=True, track_running_stats=True)\n",
            "    )\n",
            "  )\n",
            "  (layer4): Sequential(\n",
            "    8.39 M, 75.109% Params, 411.39 MMac, 23.603% MACs, \n",
            "    (0): BasicBlock(\n",
            "      3.67 M, 32.868% Params, 180.03 MMac, 10.329% MACs, \n",
            "      (conv1): Conv2d(1.18 M, 10.556% Params, 57.8 MMac, 3.316% MACs, 256, 512, kernel_size=(3, 3), stride=(2, 2), padding=(1, 1), bias=False)\n",
            "      (bn1): BatchNorm2d(1.02 k, 0.009% Params, 50.18 KMac, 0.003% MACs, 512, eps=1e-05, momentum=0.1, affine=True, track_running_stats=True)\n",
            "      (relu): ReLU(0, 0.000% Params, 50.18 KMac, 0.003% MACs, inplace=True)\n",
            "      (conv2): Conv2d(2.36 M, 21.112% Params, 115.61 MMac, 6.633% MACs, 512, 512, kernel_size=(3, 3), stride=(1, 1), padding=(1, 1), bias=False)\n",
            "      (bn2): BatchNorm2d(1.02 k, 0.009% Params, 50.18 KMac, 0.003% MACs, 512, eps=1e-05, momentum=0.1, affine=True, track_running_stats=True)\n",
            "      (downsample): Sequential(\n",
            "        132.1 k, 1.182% Params, 6.47 MMac, 0.371% MACs, \n",
            "        (0): Conv2d(131.07 k, 1.173% Params, 6.42 MMac, 0.368% MACs, 256, 512, kernel_size=(1, 1), stride=(2, 2), bias=False)\n",
            "        (1): BatchNorm2d(1.02 k, 0.009% Params, 50.18 KMac, 0.003% MACs, 512, eps=1e-05, momentum=0.1, affine=True, track_running_stats=True)\n",
            "      )\n",
            "    )\n",
            "    (1): BasicBlock(\n",
            "      4.72 M, 42.241% Params, 231.36 MMac, 13.274% MACs, \n",
            "      (conv1): Conv2d(2.36 M, 21.112% Params, 115.61 MMac, 6.633% MACs, 512, 512, kernel_size=(3, 3), stride=(1, 1), padding=(1, 1), bias=False)\n",
            "      (bn1): BatchNorm2d(1.02 k, 0.009% Params, 50.18 KMac, 0.003% MACs, 512, eps=1e-05, momentum=0.1, affine=True, track_running_stats=True)\n",
            "      (relu): ReLU(0, 0.000% Params, 50.18 KMac, 0.003% MACs, inplace=True)\n",
            "      (conv2): Conv2d(2.36 M, 21.112% Params, 115.61 MMac, 6.633% MACs, 512, 512, kernel_size=(3, 3), stride=(1, 1), padding=(1, 1), bias=False)\n",
            "      (bn2): BatchNorm2d(1.02 k, 0.009% Params, 50.18 KMac, 0.003% MACs, 512, eps=1e-05, momentum=0.1, affine=True, track_running_stats=True)\n",
            "    )\n",
            "  )\n",
            "  (averpool): AdaptiveAvgPool2d(0, 0.000% Params, 25.09 KMac, 0.001% MACs, output_size=(1, 1))\n",
            "  (fc): Linear(5.13 k, 0.046% Params, 5.13 KMac, 0.000% MACs, in_features=512, out_features=10, bias=True)\n",
            ")\n",
            "FLOPs: 1.74 GMac\n",
            "Parameters: 11.18 M\n",
            "[tensor(86.5600), tensor(88.3000), tensor(89.2100), tensor(88.6500), tensor(89.3900), tensor(89.4200), tensor(89.9500), tensor(89.9100), tensor(90.3400), tensor(90.4500)]\n",
            "[tensor(20.7150), tensor(21.1617), tensor(21.4917), tensor(21.7317), tensor(21.9217), tensor(22.0983), tensor(22.1733), tensor(22.3650), tensor(22.4733), tensor(22.6083)]\n"
          ]
        },
        {
          "output_type": "display_data",
          "data": {
            "text/plain": [
              "<Figure size 640x480 with 2 Axes>"
            ],
            "image/png": "[encoded data removed]"
          },
          "metadata": {}
        }
      ]
    },
    {
      "cell_type": "code",
      "source": [
        "#ResNeXt\n",
        "torch.cuda.empty_cache()\n",
        "start = time.time()\n",
        "model = ResNet(BasicBlock,[2,2,2,2],groups=32)\n",
        "train_acc = []\n",
        "test_acc = []\n",
        "\n",
        "if args['cuda']:\n",
        "    model.cuda()\n",
        "\n",
        "optimizer = optim.SGD(model.parameters(), lr=args['lr'], momentum=args['momentum'],weight_decay=args['weight_decay'])\n",
        "\n",
        "for epoch in range(1, args['epochs'] + 1):\n",
        "    train(epoch)\n",
        "    test()\n",
        "\n",
        "end = time.time()\n",
        "print(f\"{end - start:.5f} sec\")\n",
        "\n",
        "with torch.cuda.device(0):\n",
        "\n",
        "  input_tensor = torch.randn(1, 1, 224, 224).cuda()\n",
        "\n",
        "  flops, params = get_model_complexity_info(model, (1, 224, 224), as_strings=True, print_per_layer_stat=True)\n",
        "\n",
        "  print('FLOPs:', flops)\n",
        "\n",
        "  print('Parameters:', params)\n",
        "\n",
        "print(test_acc)\n",
        "print(train_acc)\n",
        "plt.xlabel('Epoch')\n",
        "plt.ylabel('Accuracy')\n",
        "plt.plot([i for i in range(1,len(test_acc)+1)], test_acc, color =\"blue\")\n",
        "a = plt.twinx()\n",
        "a.plot([i for i in range(1,len(train_acc)+1)], train_acc, color = \"red\")\n",
        "plt.show()\n"
      ],
      "metadata": {
        "id": "IL_sKr34slks",
        "colab": {
          "base_uri": "https://localhost:8080/",
          "height": 1000
        },
        "outputId": "7e2247ec-5f18-4711-b8a8-ff338354a811"
      },
      "execution_count": 14,
      "outputs": [
        {
          "output_type": "stream",
          "name": "stderr",
          "text": [
            "<ipython-input-8-d7fa55ca2732>:60: UserWarning: Implicit dimension choice for log_softmax has been deprecated. Change the call to include dim=X as an argument.\n",
            "  return F.log_softmax(x)\n"
          ]
        },
        {
          "output_type": "stream",
          "name": "stdout",
          "text": [
            "Train Epoch: 1 [0/60000 (0%)]\tLoss: 2.576939\n",
            "Train Epoch: 1 [22784/60000 (38%)]\tLoss: 0.403462\n",
            "Train Epoch: 1 [45568/60000 (76%)]\tLoss: 0.320086\n"
          ]
        },
        {
          "output_type": "stream",
          "name": "stderr",
          "text": [
            "<ipython-input-11-e61b35da3f21>:34: UserWarning: volatile was removed and now has no effect. Use `with torch.no_grad():` instead.\n",
            "  data, target = Variable(data, volatile=True), Variable(target)\n",
            "/usr/local/lib/python3.10/dist-packages/torch/nn/_reduction.py:42: UserWarning: size_average and reduce args will be deprecated, please use reduction='sum' instead.\n",
            "  warnings.warn(warning.format(ret))\n"
          ]
        },
        {
          "output_type": "stream",
          "name": "stdout",
          "text": [
            "\n",
            "Test set: Average loss: 0.3461, Accuracy: 8694/10000 (87%)\n",
            "\n",
            "Train Epoch: 2 [0/60000 (0%)]\tLoss: 0.248597\n",
            "Train Epoch: 2 [22784/60000 (38%)]\tLoss: 0.244429\n",
            "Train Epoch: 2 [45568/60000 (76%)]\tLoss: 0.241642\n",
            "\n",
            "Test set: Average loss: 0.3004, Accuracy: 8902/10000 (89%)\n",
            "\n",
            "Train Epoch: 3 [0/60000 (0%)]\tLoss: 0.187163\n",
            "Train Epoch: 3 [22784/60000 (38%)]\tLoss: 0.207479\n",
            "Train Epoch: 3 [45568/60000 (76%)]\tLoss: 0.278138\n",
            "\n",
            "Test set: Average loss: 0.2775, Accuracy: 8981/10000 (90%)\n",
            "\n",
            "Train Epoch: 4 [0/60000 (0%)]\tLoss: 0.237337\n",
            "Train Epoch: 4 [22784/60000 (38%)]\tLoss: 0.198853\n",
            "Train Epoch: 4 [45568/60000 (76%)]\tLoss: 0.237191\n",
            "\n",
            "Test set: Average loss: 0.3137, Accuracy: 8849/10000 (88%)\n",
            "\n",
            "Train Epoch: 5 [0/60000 (0%)]\tLoss: 0.195418\n",
            "Train Epoch: 5 [22784/60000 (38%)]\tLoss: 0.149888\n",
            "Train Epoch: 5 [45568/60000 (76%)]\tLoss: 0.190788\n",
            "\n",
            "Test set: Average loss: 0.2973, Accuracy: 8969/10000 (90%)\n",
            "\n",
            "Train Epoch: 6 [0/60000 (0%)]\tLoss: 0.166712\n",
            "Train Epoch: 6 [22784/60000 (38%)]\tLoss: 0.172903\n",
            "Train Epoch: 6 [45568/60000 (76%)]\tLoss: 0.156160\n",
            "\n",
            "Test set: Average loss: 0.2929, Accuracy: 8991/10000 (90%)\n",
            "\n",
            "Train Epoch: 7 [0/60000 (0%)]\tLoss: 0.170371\n",
            "Train Epoch: 7 [22784/60000 (38%)]\tLoss: 0.133787\n",
            "Train Epoch: 7 [45568/60000 (76%)]\tLoss: 0.097037\n",
            "\n",
            "Test set: Average loss: 0.2948, Accuracy: 8975/10000 (90%)\n",
            "\n",
            "Train Epoch: 8 [0/60000 (0%)]\tLoss: 0.151643\n",
            "Train Epoch: 8 [22784/60000 (38%)]\tLoss: 0.170127\n",
            "Train Epoch: 8 [45568/60000 (76%)]\tLoss: 0.164744\n",
            "\n",
            "Test set: Average loss: 0.2940, Accuracy: 9017/10000 (90%)\n",
            "\n",
            "Train Epoch: 9 [0/60000 (0%)]\tLoss: 0.146351\n",
            "Train Epoch: 9 [22784/60000 (38%)]\tLoss: 0.060397\n",
            "Train Epoch: 9 [45568/60000 (76%)]\tLoss: 0.161039\n",
            "\n",
            "Test set: Average loss: 0.2969, Accuracy: 9078/10000 (91%)\n",
            "\n",
            "Train Epoch: 10 [0/60000 (0%)]\tLoss: 0.094722\n",
            "Train Epoch: 10 [22784/60000 (38%)]\tLoss: 0.084170\n",
            "Train Epoch: 10 [45568/60000 (76%)]\tLoss: 0.122341\n",
            "\n",
            "Test set: Average loss: 0.2951, Accuracy: 9060/10000 (91%)\n",
            "\n",
            "218.72273 sec\n",
            "ResNet(\n",
            "  11.18 M, 100.000% Params, 1.74 GMac, 100.000% MACs, \n",
            "  (conv1): Conv2d(3.14 k, 0.028% Params, 39.34 MMac, 2.257% MACs, 1, 64, kernel_size=(7, 7), stride=(2, 2), padding=(3, 3), bias=False)\n",
            "  (bn1): BatchNorm2d(128, 0.001% Params, 1.61 MMac, 0.092% MACs, 64, eps=1e-05, momentum=0.1, affine=True, track_running_stats=True)\n",
            "  (relu): ReLU(0, 0.000% Params, 802.82 KMac, 0.046% MACs, inplace=True)\n",
            "  (maxpool): MaxPool2d(0, 0.000% Params, 802.82 KMac, 0.046% MACs, kernel_size=3, stride=2, padding=1, dilation=1, ceil_mode=False)\n",
            "  (layer1): Sequential(\n",
            "    147.97 k, 1.324% Params, 464.83 MMac, 26.669% MACs, \n",
            "    (0): BasicBlock(\n",
            "      73.98 k, 0.662% Params, 232.42 MMac, 13.334% MACs, \n",
            "      (conv1): Conv2d(36.86 k, 0.330% Params, 115.61 MMac, 6.633% MACs, 64, 64, kernel_size=(3, 3), stride=(1, 1), padding=(1, 1), bias=False)\n",
            "      (bn1): BatchNorm2d(128, 0.001% Params, 401.41 KMac, 0.023% MACs, 64, eps=1e-05, momentum=0.1, affine=True, track_running_stats=True)\n",
            "      (relu): ReLU(0, 0.000% Params, 401.41 KMac, 0.023% MACs, inplace=True)\n",
            "      (conv2): Conv2d(36.86 k, 0.330% Params, 115.61 MMac, 6.633% MACs, 64, 64, kernel_size=(3, 3), stride=(1, 1), padding=(1, 1), bias=False)\n",
            "      (bn2): BatchNorm2d(128, 0.001% Params, 401.41 KMac, 0.023% MACs, 64, eps=1e-05, momentum=0.1, affine=True, track_running_stats=True)\n",
            "    )\n",
            "    (1): BasicBlock(\n",
            "      73.98 k, 0.662% Params, 232.42 MMac, 13.334% MACs, \n",
            "      (conv1): Conv2d(36.86 k, 0.330% Params, 115.61 MMac, 6.633% MACs, 64, 64, kernel_size=(3, 3), stride=(1, 1), padding=(1, 1), bias=False)\n",
            "      (bn1): BatchNorm2d(128, 0.001% Params, 401.41 KMac, 0.023% MACs, 64, eps=1e-05, momentum=0.1, affine=True, track_running_stats=True)\n",
            "      (relu): ReLU(0, 0.000% Params, 401.41 KMac, 0.023% MACs, inplace=True)\n",
            "      (conv2): Conv2d(36.86 k, 0.330% Params, 115.61 MMac, 6.633% MACs, 64, 64, kernel_size=(3, 3), stride=(1, 1), padding=(1, 1), bias=False)\n",
            "      (bn2): BatchNorm2d(128, 0.001% Params, 401.41 KMac, 0.023% MACs, 64, eps=1e-05, momentum=0.1, affine=True, track_running_stats=True)\n",
            "    )\n",
            "  )\n",
            "  (layer2): Sequential(\n",
            "    525.57 k, 4.703% Params, 412.45 MMac, 23.663% MACs, \n",
            "    (0): BasicBlock(\n",
            "      230.14 k, 2.059% Params, 180.63 MMac, 10.363% MACs, \n",
            "      (conv1): Conv2d(73.73 k, 0.660% Params, 57.8 MMac, 3.316% MACs, 64, 128, kernel_size=(3, 3), stride=(2, 2), padding=(1, 1), bias=False)\n",
            "      (bn1): BatchNorm2d(256, 0.002% Params, 200.7 KMac, 0.012% MACs, 128, eps=1e-05, momentum=0.1, affine=True, track_running_stats=True)\n",
            "      (relu): ReLU(0, 0.000% Params, 200.7 KMac, 0.012% MACs, inplace=True)\n",
            "      (conv2): Conv2d(147.46 k, 1.319% Params, 115.61 MMac, 6.633% MACs, 128, 128, kernel_size=(3, 3), stride=(1, 1), padding=(1, 1), bias=False)\n",
            "      (bn2): BatchNorm2d(256, 0.002% Params, 200.7 KMac, 0.012% MACs, 128, eps=1e-05, momentum=0.1, affine=True, track_running_stats=True)\n",
            "      (downsample): Sequential(\n",
            "        8.45 k, 0.076% Params, 6.62 MMac, 0.380% MACs, \n",
            "        (0): Conv2d(8.19 k, 0.073% Params, 6.42 MMac, 0.368% MACs, 64, 128, kernel_size=(1, 1), stride=(2, 2), bias=False)\n",
            "        (1): BatchNorm2d(256, 0.002% Params, 200.7 KMac, 0.012% MACs, 128, eps=1e-05, momentum=0.1, affine=True, track_running_stats=True)\n",
            "      )\n",
            "    )\n",
            "    (1): BasicBlock(\n",
            "      295.42 k, 2.644% Params, 231.81 MMac, 13.300% MACs, \n",
            "      (conv1): Conv2d(147.46 k, 1.319% Params, 115.61 MMac, 6.633% MACs, 128, 128, kernel_size=(3, 3), stride=(1, 1), padding=(1, 1), bias=False)\n",
            "      (bn1): BatchNorm2d(256, 0.002% Params, 200.7 KMac, 0.012% MACs, 128, eps=1e-05, momentum=0.1, affine=True, track_running_stats=True)\n",
            "      (relu): ReLU(0, 0.000% Params, 200.7 KMac, 0.012% MACs, inplace=True)\n",
            "      (conv2): Conv2d(147.46 k, 1.319% Params, 115.61 MMac, 6.633% MACs, 128, 128, kernel_size=(3, 3), stride=(1, 1), padding=(1, 1), bias=False)\n",
            "      (bn2): BatchNorm2d(256, 0.002% Params, 200.7 KMac, 0.012% MACs, 128, eps=1e-05, momentum=0.1, affine=True, track_running_stats=True)\n",
            "    )\n",
            "  )\n",
            "  (layer3): Sequential(\n",
            "    2.1 M, 18.789% Params, 411.74 MMac, 23.623% MACs, \n",
            "    (0): BasicBlock(\n",
            "      919.04 k, 8.224% Params, 180.23 MMac, 10.340% MACs, \n",
            "      (conv1): Conv2d(294.91 k, 2.639% Params, 57.8 MMac, 3.316% MACs, 128, 256, kernel_size=(3, 3), stride=(2, 2), padding=(1, 1), bias=False)\n",
            "      (bn1): BatchNorm2d(512, 0.005% Params, 100.35 KMac, 0.006% MACs, 256, eps=1e-05, momentum=0.1, affine=True, track_running_stats=True)\n",
            "      (relu): ReLU(0, 0.000% Params, 100.35 KMac, 0.006% MACs, inplace=True)\n",
            "      (conv2): Conv2d(589.82 k, 5.278% Params, 115.61 MMac, 6.633% MACs, 256, 256, kernel_size=(3, 3), stride=(1, 1), padding=(1, 1), bias=False)\n",
            "      (bn2): BatchNorm2d(512, 0.005% Params, 100.35 KMac, 0.006% MACs, 256, eps=1e-05, momentum=0.1, affine=True, track_running_stats=True)\n",
            "      (downsample): Sequential(\n",
            "        33.28 k, 0.298% Params, 6.52 MMac, 0.374% MACs, \n",
            "        (0): Conv2d(32.77 k, 0.293% Params, 6.42 MMac, 0.368% MACs, 128, 256, kernel_size=(1, 1), stride=(2, 2), bias=False)\n",
            "        (1): BatchNorm2d(512, 0.005% Params, 100.35 KMac, 0.006% MACs, 256, eps=1e-05, momentum=0.1, affine=True, track_running_stats=True)\n",
            "      )\n",
            "    )\n",
            "    (1): BasicBlock(\n",
            "      1.18 M, 10.565% Params, 231.51 MMac, 13.282% MACs, \n",
            "      (conv1): Conv2d(589.82 k, 5.278% Params, 115.61 MMac, 6.633% MACs, 256, 256, kernel_size=(3, 3), stride=(1, 1), padding=(1, 1), bias=False)\n",
            "      (bn1): BatchNorm2d(512, 0.005% Params, 100.35 KMac, 0.006% MACs, 256, eps=1e-05, momentum=0.1, affine=True, track_running_stats=True)\n",
            "      (relu): ReLU(0, 0.000% Params, 100.35 KMac, 0.006% MACs, inplace=True)\n",
            "      (conv2): Conv2d(589.82 k, 5.278% Params, 115.61 MMac, 6.633% MACs, 256, 256, kernel_size=(3, 3), stride=(1, 1), padding=(1, 1), bias=False)\n",
            "      (bn2): BatchNorm2d(512, 0.005% Params, 100.35 KMac, 0.006% MACs, 256, eps=1e-05, momentum=0.1, affine=True, track_running_stats=True)\n",
            "    )\n",
            "  )\n",
            "  (layer4): Sequential(\n",
            "    8.39 M, 75.109% Params, 411.39 MMac, 23.603% MACs, \n",
            "    (0): BasicBlock(\n",
            "      3.67 M, 32.868% Params, 180.03 MMac, 10.329% MACs, \n",
            "      (conv1): Conv2d(1.18 M, 10.556% Params, 57.8 MMac, 3.316% MACs, 256, 512, kernel_size=(3, 3), stride=(2, 2), padding=(1, 1), bias=False)\n",
            "      (bn1): BatchNorm2d(1.02 k, 0.009% Params, 50.18 KMac, 0.003% MACs, 512, eps=1e-05, momentum=0.1, affine=True, track_running_stats=True)\n",
            "      (relu): ReLU(0, 0.000% Params, 50.18 KMac, 0.003% MACs, inplace=True)\n",
            "      (conv2): Conv2d(2.36 M, 21.112% Params, 115.61 MMac, 6.633% MACs, 512, 512, kernel_size=(3, 3), stride=(1, 1), padding=(1, 1), bias=False)\n",
            "      (bn2): BatchNorm2d(1.02 k, 0.009% Params, 50.18 KMac, 0.003% MACs, 512, eps=1e-05, momentum=0.1, affine=True, track_running_stats=True)\n",
            "      (downsample): Sequential(\n",
            "        132.1 k, 1.182% Params, 6.47 MMac, 0.371% MACs, \n",
            "        (0): Conv2d(131.07 k, 1.173% Params, 6.42 MMac, 0.368% MACs, 256, 512, kernel_size=(1, 1), stride=(2, 2), bias=False)\n",
            "        (1): BatchNorm2d(1.02 k, 0.009% Params, 50.18 KMac, 0.003% MACs, 512, eps=1e-05, momentum=0.1, affine=True, track_running_stats=True)\n",
            "      )\n",
            "    )\n",
            "    (1): BasicBlock(\n",
            "      4.72 M, 42.241% Params, 231.36 MMac, 13.274% MACs, \n",
            "      (conv1): Conv2d(2.36 M, 21.112% Params, 115.61 MMac, 6.633% MACs, 512, 512, kernel_size=(3, 3), stride=(1, 1), padding=(1, 1), bias=False)\n",
            "      (bn1): BatchNorm2d(1.02 k, 0.009% Params, 50.18 KMac, 0.003% MACs, 512, eps=1e-05, momentum=0.1, affine=True, track_running_stats=True)\n",
            "      (relu): ReLU(0, 0.000% Params, 50.18 KMac, 0.003% MACs, inplace=True)\n",
            "      (conv2): Conv2d(2.36 M, 21.112% Params, 115.61 MMac, 6.633% MACs, 512, 512, kernel_size=(3, 3), stride=(1, 1), padding=(1, 1), bias=False)\n",
            "      (bn2): BatchNorm2d(1.02 k, 0.009% Params, 50.18 KMac, 0.003% MACs, 512, eps=1e-05, momentum=0.1, affine=True, track_running_stats=True)\n",
            "    )\n",
            "  )\n",
            "  (averpool): AdaptiveAvgPool2d(0, 0.000% Params, 25.09 KMac, 0.001% MACs, output_size=(1, 1))\n",
            "  (fc): Linear(5.13 k, 0.046% Params, 5.13 KMac, 0.000% MACs, in_features=512, out_features=10, bias=True)\n",
            ")\n",
            "FLOPs: 1.74 GMac\n",
            "Parameters: 11.18 M\n",
            "[tensor(86.9400), tensor(89.0200), tensor(89.8100), tensor(88.4900), tensor(89.6900), tensor(89.9100), tensor(89.7500), tensor(90.1700), tensor(90.7800), tensor(90.6000)]\n",
            "[tensor(20.7950), tensor(21.2817), tensor(21.6200), tensor(21.7750), tensor(21.8550), tensor(22.0950), tensor(22.0933), tensor(22.2650), tensor(22.4933), tensor(22.6217)]\n"
          ]
        },
        {
          "output_type": "display_data",
          "data": {
            "text/plain": [
              "<Figure size 640x480 with 2 Axes>"
            ],
            "image/png": "[encoded data removed]"
          },
          "metadata": {}
        }
      ]
    }
  ]
}